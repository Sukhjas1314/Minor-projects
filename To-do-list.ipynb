{
 "cells": [
  {
   "cell_type": "markdown",
   "metadata": {},
   "source": [
    "# To-Do List"
   ]
  },
  {
   "cell_type": "code",
   "execution_count": null,
   "metadata": {},
   "outputs": [],
   "source": [
    "todo_list = []"
   ]
  },
  {
   "cell_type": "code",
   "execution_count": null,
   "metadata": {},
   "outputs": [],
   "source": [
    "def show_menu():\n",
    "    print(\"\\nTodo List menu : \")\n",
    "    print(\"1. View tasks\")\n",
    "    print(\"2. Add tasks\")\n",
    "    print(\"3. Delete tasks\")\n",
    "    print(\"4. Exit\")"
   ]
  },
  {
   "cell_type": "code",
   "execution_count": 3,
   "metadata": {},
   "outputs": [],
   "source": [
    "while True:\n",
    "    show_menu()\n",
    "    choice = input(\"Enter you choice (1-4): \")\n",
    "    print(\"\\n\\nTo-do list :\")\n",
    "    if choice == '1':\n",
    "        if not todo_list:\n",
    "            print(\"No tasks yet\")\n",
    "        else:\n",
    "            for i,task in enumerate(todo_list,start = 1):\n",
    "                print(f\"{i}.{task}\")\n",
    "    elif choice == '2':\n",
    "        task = input(\"Enter the task : \")\n",
    "        todo_list.append(task)\n",
    "        print(\"Task added!\")\n",
    "    elif choice == '3':\n",
    "        task_no = int(input(\"Enter the task number to delete : \"))\n",
    "        if 0 < task_no <= len(todo_list):\n",
    "            removed = todo_list.pop(task_no - 1)\n",
    "            print(f\"{removed} deleted!\")\n",
    "        else:\n",
    "            print(\"Invalid task number\")\n",
    "    elif choice == '4':\n",
    "        print(\"Exiting the todo list\")\n",
    "        break\n",
    "    else:\n",
    "        print(\"Invalid choice! Try again\")"
   ]
  }
 ],
 "metadata": {
  "kernelspec": {
   "display_name": "Python 3",
   "language": "python",
   "name": "python3"
  },
  "language_info": {
   "codemirror_mode": {
    "name": "ipython",
    "version": 3
   },
   "file_extension": ".py",
   "mimetype": "text/x-python",
   "name": "python",
   "nbconvert_exporter": "python",
   "pygments_lexer": "ipython3",
   "version": "3.12.1"
  }
 },
 "nbformat": 4,
 "nbformat_minor": 2
}
