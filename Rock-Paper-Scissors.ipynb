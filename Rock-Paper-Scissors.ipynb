{
 "cells": [
  {
   "cell_type": "code",
   "execution_count": 1,
   "metadata": {},
   "outputs": [],
   "source": [
    "import random"
   ]
  },
  {
   "cell_type": "code",
   "execution_count": 2,
   "metadata": {},
   "outputs": [],
   "source": [
    "choices = [\"rock\",\"paper\",\"scissors\"]"
   ]
  },
  {
   "cell_type": "code",
   "execution_count": 3,
   "metadata": {},
   "outputs": [
    {
     "name": "stdout",
     "output_type": "stream",
     "text": [
      "Rock, Paper, Scissors game ✊✋✌️\n",
      "Computer choses :  paper\n",
      "You lose!!\n",
      "Computer choses :  paper\n",
      "It's a tie!\n",
      "Computer choses :  rock\n",
      "You lose!!\n",
      "Computer choses :  scissors\n",
      "You lose!!\n",
      "Computer choses :  scissors\n",
      "You lose!!\n",
      "Computer choses :  scissors\n",
      "You win!!\n",
      "Invalid choice! Try again\n",
      "Invalid choice! Try again\n",
      "Invalid choice! Try again\n",
      "Invalid choice! Try again\n",
      "Invalid choice! Try again\n",
      "Invalid choice! Try again\n",
      "Invalid choice! Try again\n",
      "Invalid choice! Try again\n",
      "Invalid choice! Try again\n",
      "Thanks for playing!!\n"
     ]
    }
   ],
   "source": [
    "print(\"Rock, Paper, Scissors game ✊✋✌️\")\n",
    "\n",
    "while True:\n",
    "    user  = input(\"Choose rock, paper, scissors (or 'quit' to stop) : \").lower()\n",
    "    if user == 'quit':\n",
    "        print(\"Thanks for playing!!\")\n",
    "        break\n",
    "    if user not in choices:\n",
    "        print(\"Invalid choice! Try again\")\n",
    "        continue\n",
    "\n",
    "    computer = random.choice(choices)\n",
    "    print(\"Computer choses : \",computer)\n",
    "\n",
    "    if user == computer:\n",
    "        print(\"It's a tie!\")\n",
    "    elif (user == \"rock\" and computer == \"scissors\") or (user == \"paper\" and computer == \"rock\") or (user == \"scissors\" and computer == \"paper\"):\n",
    "        print(\"You win!!\")\n",
    "    else:\n",
    "        print(\"You lose!!\")"
   ]
  },
  {
   "cell_type": "code",
   "execution_count": null,
   "metadata": {},
   "outputs": [],
   "source": []
  }
 ],
 "metadata": {
  "kernelspec": {
   "display_name": "Python 3",
   "language": "python",
   "name": "python3"
  },
  "language_info": {
   "codemirror_mode": {
    "name": "ipython",
    "version": 3
   },
   "file_extension": ".py",
   "mimetype": "text/x-python",
   "name": "python",
   "nbconvert_exporter": "python",
   "pygments_lexer": "ipython3",
   "version": "3.12.1"
  }
 },
 "nbformat": 4,
 "nbformat_minor": 2
}
