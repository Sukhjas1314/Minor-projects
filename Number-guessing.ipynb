{
 "cells": [
  {
   "cell_type": "markdown",
   "metadata": {},
   "source": [
    "# Number Guessing Game 🎯"
   ]
  },
  {
   "cell_type": "code",
   "execution_count": 1,
   "metadata": {},
   "outputs": [],
   "source": [
    "import random"
   ]
  },
  {
   "cell_type": "code",
   "execution_count": 2,
   "metadata": {},
   "outputs": [],
   "source": [
    "number_to_guess = random.randint(1,100)\n",
    "guess = None\n",
    "attempts = 0"
   ]
  },
  {
   "cell_type": "code",
   "execution_count": 3,
   "metadata": {},
   "outputs": [
    {
     "name": "stdout",
     "output_type": "stream",
     "text": [
      "Welcome to the number guessing game!!!\n",
      "I'm thinking of the number between 1 to 100\n",
      "Too low! Try again\n",
      "Too high! Try again\n",
      "Too low! Try again\n",
      "Too low! Try again\n",
      "Too low! Try again\n",
      "Too high! Try again\n",
      "Too low! Try again\n",
      "Congratulations! You guessed it in 8 tries\n"
     ]
    }
   ],
   "source": [
    "print(\"Welcome to the number guessing game!!!\")\n",
    "print(\"I'm thinking of the number between 1 to 100\")\n",
    "\n",
    "while guess != number_to_guess:\n",
    "    guess = int(input(\"Enter your guess : \"))\n",
    "    attempts += 1\n",
    "\n",
    "    if guess < number_to_guess:\n",
    "        print(\"Too low! Try again\")\n",
    "    elif guess > number_to_guess:\n",
    "        print(\"Too high! Try again\")\n",
    "    else:\n",
    "        print(f\"Congratulations! You guessed it in {attempts} tries\")"
   ]
  },
  {
   "cell_type": "code",
   "execution_count": null,
   "metadata": {},
   "outputs": [],
   "source": []
  }
 ],
 "metadata": {
  "kernelspec": {
   "display_name": "Python 3",
   "language": "python",
   "name": "python3"
  },
  "language_info": {
   "codemirror_mode": {
    "name": "ipython",
    "version": 3
   },
   "file_extension": ".py",
   "mimetype": "text/x-python",
   "name": "python",
   "nbconvert_exporter": "python",
   "pygments_lexer": "ipython3",
   "version": "3.12.1"
  }
 },
 "nbformat": 4,
 "nbformat_minor": 2
}
