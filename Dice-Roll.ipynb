{
 "cells": [
  {
   "cell_type": "markdown",
   "metadata": {},
   "source": [
    "# Dice Rolling Simulator 🎲"
   ]
  },
  {
   "cell_type": "code",
   "execution_count": 1,
   "metadata": {},
   "outputs": [],
   "source": [
    "import random"
   ]
  },
  {
   "cell_type": "code",
   "execution_count": 2,
   "metadata": {},
   "outputs": [],
   "source": [
    "def roll_dice():\n",
    "    return random.randint(1,6)"
   ]
  },
  {
   "cell_type": "code",
   "execution_count": 4,
   "metadata": {},
   "outputs": [
    {
     "name": "stdout",
     "output_type": "stream",
     "text": [
      "Dice roll simulator 🎲 🎲\n",
      "You rolled :  3\n",
      "You rolled :  5\n",
      "You rolled :  2\n",
      "You rolled :  1\n",
      "You rolled :  6\n",
      "You rolled :  4\n",
      "You rolled :  1\n",
      "You rolled :  3\n",
      "You rolled :  1\n",
      "You rolled :  3\n",
      "You rolled :  1\n",
      "You rolled :  1\n",
      "Thanks for playing\n"
     ]
    }
   ],
   "source": [
    "print(\"Dice roll simulator 🎲 🎲\")\n",
    "\n",
    "while True:\n",
    "    roll = input(\"Roll the dice (y/n) : \").lower()\n",
    "\n",
    "    if roll == 'y':\n",
    "        print(\"You rolled : \",roll_dice())\n",
    "    elif roll == 'n':\n",
    "        print(\"Thanks for playing\")\n",
    "        break\n",
    "    else:\n",
    "        print(\"Please type 'y'/'n'\")"
   ]
  }
 ],
 "metadata": {
  "kernelspec": {
   "display_name": "Python 3",
   "language": "python",
   "name": "python3"
  },
  "language_info": {
   "codemirror_mode": {
    "name": "ipython",
    "version": 3
   },
   "file_extension": ".py",
   "mimetype": "text/x-python",
   "name": "python",
   "nbconvert_exporter": "python",
   "pygments_lexer": "ipython3",
   "version": "3.12.1"
  }
 },
 "nbformat": 4,
 "nbformat_minor": 2
}
